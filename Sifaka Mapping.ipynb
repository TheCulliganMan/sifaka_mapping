{
 "cells": [
  {
   "cell_type": "markdown",
   "metadata": {},
   "source": [
    "# Sifaka Mapping "
   ]
  },
  {
   "cell_type": "markdown",
   "metadata": {},
   "source": [
    "### Imports"
   ]
  },
  {
   "cell_type": "code",
   "execution_count": 1,
   "metadata": {
    "collapsed": false
   },
   "outputs": [],
   "source": [
    "import pandas as pd\n",
    "import requests"
   ]
  },
  {
   "cell_type": "markdown",
   "metadata": {},
   "source": [
    "### Load Excel File"
   ]
  },
  {
   "cell_type": "code",
   "execution_count": 2,
   "metadata": {
    "collapsed": false
   },
   "outputs": [
    {
     "name": "stdout",
     "output_type": "stream",
     "text": [
      "  Sample ID  Species Name Sex  Location        Latitude        Longitude\n",
      "0    MOR101  P. verreauxi   F  Beroboka  S24Â°45'53.0''  E046Â°51'45.0''\n",
      "1     ZAH26    P. diadema   M  Zahamena  S24Â°45'45.7''  E046Â°51'48.7''\n"
     ]
    }
   ],
   "source": [
    "excel_location = \"data/sifaka_locations.xlsx\"\n",
    "xls = pd.ExcelFile(excel_location)\n",
    "df = xls.parse(xls.sheet_names[0])\n",
    "# Show that the data frame loaded\n",
    "print (df.head())"
   ]
  },
  {
   "cell_type": "markdown",
   "metadata": {},
   "source": [
    "### Convert DMS to DD"
   ]
  },
  {
   "cell_type": "code",
   "execution_count": 3,
   "metadata": {
    "collapsed": false
   },
   "outputs": [],
   "source": [
    "conversion_server = 'http://ice:8081/'\n",
    "split_set = set(['s', 'a', 'e', \"'\", \n",
    "                     '\"', '`', \":\", '\\xcb\\x9a', \n",
    "                     '\\xc2\\xb0', '\\xc2\\xba', 'â' \n",
    "                     '°', 'º', '˚', ',', ' '])\n",
    "\n",
    "\n",
    "\n",
    "def process_lat_lon(dms):\n",
    "    dms = [dms.lower()]\n",
    "    new_items = []\n",
    "    for num, i in enumerate(split_set):\n",
    "        new_items = [j.split(i) for j in dms if i]\n",
    "        items_replacement = []\n",
    "        for i in new_items:\n",
    "            for j in i:\n",
    "                if j:\n",
    "                    items_replacement.append(j)\n",
    "        dms = items_replacement\n",
    "    try:\n",
    "        items = list(map(float, dms))\n",
    "        keys = ['d', 'm', 's']\n",
    "        return_obj = {}\n",
    "        for num, item in enumerate(items):\n",
    "            return_obj[keys[num]] = item\n",
    "        for key in keys:\n",
    "            if key not in return_obj:\n",
    "                return_obj[key] = 0\n",
    "        return return_obj\n",
    "    except:\n",
    "        print(dms)\n",
    "        return False\n",
    "\n",
    "def run_conversions():\n",
    "    for num, lat_lon in enumerate(zip(df['Latitude'], df['Longitude'])):\n",
    "        lat, lon = lat_lon\n",
    "        proc_lats = process_lat_lon(lat)\n",
    "        proc_lons = process_lat_lon(lon)\n",
    "        conversion_str = \"?dlat={}&mlat={}&slat={}&dlon={}&mlon={}&slon={}\".format(-proc_lats['d'], \n",
    "                                                                                    proc_lats['m'], \n",
    "                                                                                    proc_lats['s'], \n",
    "                                                                                    proc_lons['d'], \n",
    "                                                                                    proc_lons['m'], \n",
    "                                                                                    proc_lons['s'])\n",
    "        request_str = conversion_server + conversion_str\n",
    "        response = requests.get(request_str).json()\n",
    "        df[\"Latitude\"][num], df[\"Longitude\"][num] = str(response['latitude']), str(response['longitude'])\n",
    "\n",
    "run_conversions()"
   ]
  },
  {
   "cell_type": "markdown",
   "metadata": {},
   "source": [
    "### Write to a CSV file"
   ]
  },
  {
   "cell_type": "code",
   "execution_count": 4,
   "metadata": {
    "collapsed": false
   },
   "outputs": [],
   "source": [
    "df.to_csv('output/sifaka_locations_converted_dd.csv', sep=',')"
   ]
  },
  {
   "cell_type": "code",
   "execution_count": null,
   "metadata": {
    "collapsed": true
   },
   "outputs": [],
   "source": []
  }
 ],
 "metadata": {
  "anaconda-cloud": {},
  "kernelspec": {
   "display_name": "Python [default]",
   "language": "python",
   "name": "python3"
  },
  "language_info": {
   "codemirror_mode": {
    "name": "ipython",
    "version": 3
   },
   "file_extension": ".py",
   "mimetype": "text/x-python",
   "name": "python",
   "nbconvert_exporter": "python",
   "pygments_lexer": "ipython3",
   "version": "3.5.2"
  }
 },
 "nbformat": 4,
 "nbformat_minor": 1
}
